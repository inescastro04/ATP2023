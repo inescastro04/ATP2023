{
 "cells": [
  {
   "cell_type": "markdown",
   "metadata": {},
   "source": [
    "### TPC7: Construir uma aplicação para manipular polinómios\n",
    "\n",
    "Depois da aula da semana passada, já tens algumas funções desenvolvidas que te irão ajudar a construir a aplicação que se descreve a seguir.\n",
    "\n",
    "* Aquecimento: Instancia os seguintes exemplos num ficheiro de texto com o formato definido na última aula\n",
    "    - `x^7 - 3.7x^4 + 5x^3 - 88`\n",
    "    - `2x^2 + 17`\n",
    "    - `7x^4 + 6x^3 - x^2 + 43`\n",
    "    - `x^4`\n",
    "    - `x^2`\n",
    "    - `x^3`\n",
    "\n",
    "* Desenvolve as seguintes funcionalidades que não foram trabalhadas na aula:\n",
    "    1. Define uma função que dado um polinómio calcula a sua derivada;\n",
    "    2. Define uma função que recebe dois polinómios `p1` e `p2` e calcula um novo polinómio correspondente à soma de `p1` e `p2`;\n",
    "    3. Define uma função que recebe um polinómio e o desenha num gráfico.\n",
    "\n",
    "* Num ficheiro Python, cria uma aplicação para manipular polinómios com as seguintes operações:\n",
    "    1. Criar um polinómio interativamente;\n",
    "    2. Ler uma lista de polinómios de um ficheiro;\n",
    "    3. Listar polinómios: mostra numa tabela os polinómios carregados em memória, adicionando um número de ordem a cada um;\n",
    "    4. Calcular o valor de um polinómio num ponto (usa o número de ordem para referenciar o polinómio);\n",
    "    5. Listar polinómios com grau: à listagem anterior, acrescenta mais uma coluna com o grau;\n",
    "    6. Maior grau: mostra o polinómio de maior grau e indica o seu número de ordem;\n",
    "    7. Derivada: mostra uma tabela com os polinómios e as respetivas derivadas;\n",
    "    8. Somar dois polinómios: indicando os seus números de ordem;\n",
    "    9. Gerar um gráfico para o polinómio;\n",
    "    10. Gravar num ficheiro os polinómios em memória;\n",
    "    0. Sair da aplicação"
   ]
  },
  {
   "cell_type": "code",
   "execution_count": 2,
   "metadata": {},
   "outputs": [],
   "source": [
    "#AQUECIMENTO\n",
    "\n",
    "# [(coef, grau)]\n",
    "# polinomio = [(coef,grau),(coef,grau), ...]\n",
    "\n",
    "p1 = [(1,7) , (-3.7 , 4) , (5,3) , (-88, 0)]\n",
    "p2 = [(2,2) , (17,0)]\n",
    "p3 = [(7,4), (6,3), (-1,2) , (43,0) ]\n",
    "p4 = [(1,4)]\n",
    "p5 = [(1,3)]\n",
    "p6 = [(1,2)]"
   ]
  },
  {
   "cell_type": "code",
   "execution_count": 4,
   "metadata": {},
   "outputs": [],
   "source": [
    "def polinomiosFicheiro (polinomiosLista, ficheiro):\n",
    "    f = open (ficheiro, \"w\")\n",
    "    for polinomio in polinomiosLista :\n",
    "        for termo in polinomio :\n",
    "            coef , grau = termo\n",
    "            f.write (str (coef) + \";\" + str (grau))\n",
    "        f.write (\"\\n\")\n",
    "    f.close ()\n",
    "\n",
    "polinomiosLista1 = [p1, p2, p3, p4, p5, p6]\n",
    "polinomiosFicheiro (polinomiosLista1, \"polinomiosT.txt\")"
   ]
  },
  {
   "cell_type": "code",
   "execution_count": 11,
   "metadata": {},
   "outputs": [
    {
     "data": {
      "text/plain": [
       "[(7, 6), (-14.8, 3), (15, 2)]"
      ]
     },
     "execution_count": 11,
     "metadata": {},
     "output_type": "execute_result"
    }
   ],
   "source": [
    "#Derivada de um polinomio\n",
    "\n",
    "def derivadaPol (polinomio) :\n",
    "    derivada = []\n",
    "    for coef, grau in polinomio :\n",
    "        coef = coef * grau\n",
    "        grau = grau - 1\n",
    "        derivada.append ((coef, grau))\n",
    "        if coef == 0 :\n",
    "            derivada.remove ((coef,grau))\n",
    "    return derivada\n",
    "\n",
    "derivadaPol (p1)"
   ]
  },
  {
   "cell_type": "code",
   "execution_count": 14,
   "metadata": {},
   "outputs": [
    {
     "data": {
      "text/plain": [
       "[(1, 7), (-3.7, 4), (5, 3), (-88, 0), (2, 2), (17, 0)]"
      ]
     },
     "execution_count": 14,
     "metadata": {},
     "output_type": "execute_result"
    }
   ],
   "source": [
    "#Soma de 2 polinomios\n",
    "\n",
    "def somaPol (polinomio1 , polinomio2) :\n",
    "    soma = []\n",
    "    i = 0\n",
    "    j = 0\n",
    "    while i < len (polinomio1) :\n",
    "        coef1,grau1 = polinomio1[i]\n",
    "        coef2,grau2 = polinomio2[j]\n",
    "        if grau1 == grau2 :\n",
    "            coefFinal = coef1 + coef2\n",
    "            soma.append ((coefFinal , grau1))\n",
    "        elif grau1 != grau2 :\n",
    "            soma.append ((coef1, grau1))\n",
    "        i = i + 1\n",
    "    while j < len (polinomio2) :\n",
    "        for coef2,grau2 in polinomio2 :\n",
    "            if grau2 not in soma :\n",
    "                soma.append ((coef2 , grau2))\n",
    "            j = j + 1\n",
    "    return soma\n",
    "\n",
    "    \n",
    "somaPol (p1,p2)"
   ]
  },
  {
   "cell_type": "code",
   "execution_count": 57,
   "metadata": {},
   "outputs": [
    {
     "data": {
      "image/png": "[encoded data removed]",
      "text/plain": [
       "<Figure size 640x480 with 1 Axes>"
      ]
     },
     "metadata": {},
     "output_type": "display_data"
    }
   ],
   "source": [
    "#Desenha um gráfico\n",
    "\n",
    "import matplotlib.pyplot as plt\n",
    "def desenhaGráfico (polinomio) :\n",
    "    i = 0\n",
    "    x = []\n",
    "    y = []\n",
    "    while i < len (polinomio) :\n",
    "        xValores = polinomio[i][1]\n",
    "        yValores = polinomio[i][0]\n",
    "        x.append (xValores)\n",
    "        y.append (yValores)\n",
    "        i = i + 1\n",
    "    plt.plot (x, y, color='skyblue', linewidth=2, marker='o', markerfacecolor='skyblue', markersize=4)\n",
    "    plt.xlabel ('Grau')\n",
    "    plt.ylabel ('Coeficientes')\n",
    "    plt.title ('Polinómio')\n",
    "    plt.grid (True)\n",
    "    plt.show ()\n",
    "    return\n",
    "\n",
    "desenhaGráfico (p1)\n"
   ]
  },
  {
   "cell_type": "code",
   "execution_count": 153,
   "metadata": {},
   "outputs": [],
   "source": [
    "def criaPol () :\n",
    "    grau = int (input (\"Escreva o maior grau do seu polinómio: \"))\n",
    "    Pol = []\n",
    "    while grau >= 0 :\n",
    "        coef = int (input (\"Introduza o coeficiente: \"))\n",
    "        if coef != 0 :\n",
    "            termo = (coef, grau)\n",
    "            Pol.append (termo)\n",
    "        grau = grau - 1\n",
    "    print (Pol)\n",
    "\n"
   ]
  },
  {
   "cell_type": "code",
   "execution_count": 154,
   "metadata": {},
   "outputs": [],
   "source": [
    "#LER FICHEIRO DE POLINOMIOS\n",
    "def lerFicheiro (ficheiro) :\n",
    "    f = open (ficheiro , \"r\")\n",
    "    i = []\n",
    "    for linha in f:\n",
    "        linha = linha.strip()\n",
    "        termo = linha.split (\" \")\n",
    "        i.append (termo)\n",
    "    f.close ()\n",
    "    return i\n",
    "\n",
    "memoria = lerFicheiro (\"polinomiosT.txt\")\n",
    "\n",
    "\n",
    "#def lerFicheiro2 (ficheiro) :\n",
    "#    f = open (ficheiro)\n",
    "#   pol = [eval(i) for i in f]\n",
    "#   f.close()\n",
    "#   return pol\n",
    "#memoria = lerFicheiro2 (\"polinomiosT.txt\")"
   ]
  },
  {
   "cell_type": "code",
   "execution_count": 155,
   "metadata": {},
   "outputs": [
    {
     "name": "stdout",
     "output_type": "stream",
     "text": [
      "Ordem |   Termos                    \n",
      "------------------------------------\n",
      "\n",
      " 1 | ['1;7-3.7;45;3-88;0']\n",
      "\n",
      " 2 | ['2;217;0']\n",
      "\n",
      " 3 | ['7;46;3-1;243;0']\n",
      "\n",
      " 4 | ['1;4']\n",
      "\n",
      " 5 | ['1;3']\n",
      "\n",
      " 6 | ['1;2']\n"
     ]
    }
   ],
   "source": [
    "#LISTAR POLINOMIOS NUMA TABELA COM O NÚMERO DE ORDEM DE CADA UM\n",
    "def listarPol (memoria) :\n",
    "    elem = 0\n",
    "    print (\"Ordem |   Termos                    \")\n",
    "    print (\"------------------------------------\")\n",
    "    while elem < len (memoria) :\n",
    "        print (f\"\\n {elem + 1} | {memoria[elem]}\") \n",
    "        elem = elem + 1\n",
    "\n",
    "listarPol (memoria)"
   ]
  },
  {
   "cell_type": "code",
   "execution_count": 128,
   "metadata": {},
   "outputs": [
    {
     "ename": "ValueError",
     "evalue": "too many values to unpack (expected 2)",
     "output_type": "error",
     "traceback": [
      "\u001b[1;31m---------------------------------------------------------------------------\u001b[0m",
      "\u001b[1;31mValueError\u001b[0m                                Traceback (most recent call last)",
      "\u001b[1;32mc:\\Users\\inesc\\OneDrive\\Ambiente de Trabalho\\Escola\\Uni\\2ºano\\1ºsemestre\\Algoritmos\\TPCS\\TPC7\\TPC7.ipynb Cell 9\u001b[0m line \u001b[0;36m1\n\u001b[0;32m     <a href='vscode-notebook-cell:/c%3A/Users/inesc/OneDrive/Ambiente%20de%20Trabalho/Escola/Uni/2%C2%BAano/1%C2%BAsemestre/Algoritmos/TPCS/TPC7/TPC7.ipynb#X14sZmlsZQ%3D%3D?line=14'>15</a>\u001b[0m     \u001b[39mreturn\u001b[39;00m res\n\u001b[0;32m     <a href='vscode-notebook-cell:/c%3A/Users/inesc/OneDrive/Ambiente%20de%20Trabalho/Escola/Uni/2%C2%BAano/1%C2%BAsemestre/Algoritmos/TPCS/TPC7/TPC7.ipynb#X14sZmlsZQ%3D%3D?line=15'>16</a>\u001b[0m \u001b[39m#a = memoria[i]\u001b[39;00m\n\u001b[1;32m---> <a href='vscode-notebook-cell:/c%3A/Users/inesc/OneDrive/Ambiente%20de%20Trabalho/Escola/Uni/2%C2%BAano/1%C2%BAsemestre/Algoritmos/TPCS/TPC7/TPC7.ipynb#X14sZmlsZQ%3D%3D?line=16'>17</a>\u001b[0m calcPolinomio (memoria, \u001b[39m3\u001b[39;49m)\n",
      "\u001b[1;32mc:\\Users\\inesc\\OneDrive\\Ambiente de Trabalho\\Escola\\Uni\\2ºano\\1ºsemestre\\Algoritmos\\TPCS\\TPC7\\TPC7.ipynb Cell 9\u001b[0m line \u001b[0;36m1\n\u001b[0;32m     <a href='vscode-notebook-cell:/c%3A/Users/inesc/OneDrive/Ambiente%20de%20Trabalho/Escola/Uni/2%C2%BAano/1%C2%BAsemestre/Algoritmos/TPCS/TPC7/TPC7.ipynb#X14sZmlsZQ%3D%3D?line=10'>11</a>\u001b[0m p \u001b[39m=\u001b[39m memoria[o]\n\u001b[0;32m     <a href='vscode-notebook-cell:/c%3A/Users/inesc/OneDrive/Ambiente%20de%20Trabalho/Escola/Uni/2%C2%BAano/1%C2%BAsemestre/Algoritmos/TPCS/TPC7/TPC7.ipynb#X14sZmlsZQ%3D%3D?line=11'>12</a>\u001b[0m \u001b[39mfor\u001b[39;00m termo \u001b[39min\u001b[39;00m p :\n\u001b[1;32m---> <a href='vscode-notebook-cell:/c%3A/Users/inesc/OneDrive/Ambiente%20de%20Trabalho/Escola/Uni/2%C2%BAano/1%C2%BAsemestre/Algoritmos/TPCS/TPC7/TPC7.ipynb#X14sZmlsZQ%3D%3D?line=12'>13</a>\u001b[0m     coef, grau \u001b[39m=\u001b[39m termo\n\u001b[0;32m     <a href='vscode-notebook-cell:/c%3A/Users/inesc/OneDrive/Ambiente%20de%20Trabalho/Escola/Uni/2%C2%BAano/1%C2%BAsemestre/Algoritmos/TPCS/TPC7/TPC7.ipynb#X14sZmlsZQ%3D%3D?line=13'>14</a>\u001b[0m     res \u001b[39m=\u001b[39m res \u001b[39m+\u001b[39m coef \u001b[39m*\u001b[39m pot (x , grau)\n\u001b[0;32m     <a href='vscode-notebook-cell:/c%3A/Users/inesc/OneDrive/Ambiente%20de%20Trabalho/Escola/Uni/2%C2%BAano/1%C2%BAsemestre/Algoritmos/TPCS/TPC7/TPC7.ipynb#X14sZmlsZQ%3D%3D?line=14'>15</a>\u001b[0m \u001b[39mreturn\u001b[39;00m res\n",
      "\u001b[1;31mValueError\u001b[0m: too many values to unpack (expected 2)"
     ]
    }
   ],
   "source": [
    "def pot (a, b) :\n",
    "    res = 1\n",
    "    while b > 0 :\n",
    "        res = res * a\n",
    "        b = b - 1\n",
    "    return res\n",
    "def calcPolinomio(memoria, x):\n",
    "    res = 0\n",
    "    i = int (input (\"Introduza o número da ordem do polinómio\"))\n",
    "    o = i - 1\n",
    "    p = memoria[o]\n",
    "    for termo in p :\n",
    "        coef, grau = termo\n",
    "        res = res + coef * pot (x , grau)\n",
    "    return res\n",
    "\n",
    "calcPolinomio (memoria, 3)\n"
   ]
  },
  {
   "cell_type": "code",
   "execution_count": 145,
   "metadata": {},
   "outputs": [
    {
     "data": {
      "text/plain": [
       "7"
      ]
     },
     "execution_count": 145,
     "metadata": {},
     "output_type": "execute_result"
    }
   ],
   "source": [
    "def calcGrau(polinomio):\n",
    "    maxGrau = 0\n",
    "    for coef, grau in polinomio:\n",
    "        if maxGrau == 0 or grau > maxGrau or (grau == maxGrau) : \n",
    "            maxGrau = grau\n",
    "    return maxGrau\n",
    "calcGrau (p1)"
   ]
  },
  {
   "cell_type": "code",
   "execution_count": 150,
   "metadata": {},
   "outputs": [
    {
     "name": "stdout",
     "output_type": "stream",
     "text": [
      "Ordem |   Termos                    | Grau   \n",
      "---------------------------------------------\n"
     ]
    },
    {
     "ename": "ValueError",
     "evalue": "not enough values to unpack (expected 2, got 1)",
     "output_type": "error",
     "traceback": [
      "\u001b[1;31m---------------------------------------------------------------------------\u001b[0m",
      "\u001b[1;31mValueError\u001b[0m                                Traceback (most recent call last)",
      "\u001b[1;32mc:\\Users\\inesc\\OneDrive\\Ambiente de Trabalho\\Escola\\Uni\\2ºano\\1ºsemestre\\Algoritmos\\TPCS\\TPC7\\TPC7.ipynb Cell 12\u001b[0m line \u001b[0;36m1\n\u001b[0;32m      <a href='vscode-notebook-cell:/c%3A/Users/inesc/OneDrive/Ambiente%20de%20Trabalho/Escola/Uni/2%C2%BAano/1%C2%BAsemestre/Algoritmos/TPCS/TPC7/TPC7.ipynb#X15sZmlsZQ%3D%3D?line=6'>7</a>\u001b[0m         elem \u001b[39m=\u001b[39m elem \u001b[39m+\u001b[39m \u001b[39m1\u001b[39m\n\u001b[0;32m      <a href='vscode-notebook-cell:/c%3A/Users/inesc/OneDrive/Ambiente%20de%20Trabalho/Escola/Uni/2%C2%BAano/1%C2%BAsemestre/Algoritmos/TPCS/TPC7/TPC7.ipynb#X15sZmlsZQ%3D%3D?line=8'>9</a>\u001b[0m \u001b[39m#print (f\"\\n {elem + 1} | {memoria[elem]} | {calcGrau (memoria[elem])}\") \u001b[39;00m\n\u001b[1;32m---> <a href='vscode-notebook-cell:/c%3A/Users/inesc/OneDrive/Ambiente%20de%20Trabalho/Escola/Uni/2%C2%BAano/1%C2%BAsemestre/Algoritmos/TPCS/TPC7/TPC7.ipynb#X15sZmlsZQ%3D%3D?line=10'>11</a>\u001b[0m listarPolEGrau (\u001b[39m\"\u001b[39;49m\u001b[39mpolinomiosT.txt\u001b[39;49m\u001b[39m\"\u001b[39;49m)\n",
      "\u001b[1;32mc:\\Users\\inesc\\OneDrive\\Ambiente de Trabalho\\Escola\\Uni\\2ºano\\1ºsemestre\\Algoritmos\\TPCS\\TPC7\\TPC7.ipynb Cell 12\u001b[0m line \u001b[0;36m6\n\u001b[0;32m      <a href='vscode-notebook-cell:/c%3A/Users/inesc/OneDrive/Ambiente%20de%20Trabalho/Escola/Uni/2%C2%BAano/1%C2%BAsemestre/Algoritmos/TPCS/TPC7/TPC7.ipynb#X15sZmlsZQ%3D%3D?line=3'>4</a>\u001b[0m \u001b[39mprint\u001b[39m (\u001b[39m\"\u001b[39m\u001b[39m---------------------------------------------\u001b[39m\u001b[39m\"\u001b[39m)\n\u001b[0;32m      <a href='vscode-notebook-cell:/c%3A/Users/inesc/OneDrive/Ambiente%20de%20Trabalho/Escola/Uni/2%C2%BAano/1%C2%BAsemestre/Algoritmos/TPCS/TPC7/TPC7.ipynb#X15sZmlsZQ%3D%3D?line=4'>5</a>\u001b[0m \u001b[39mwhile\u001b[39;00m elem \u001b[39m<\u001b[39m \u001b[39mlen\u001b[39m (memoria) :\n\u001b[1;32m----> <a href='vscode-notebook-cell:/c%3A/Users/inesc/OneDrive/Ambiente%20de%20Trabalho/Escola/Uni/2%C2%BAano/1%C2%BAsemestre/Algoritmos/TPCS/TPC7/TPC7.ipynb#X15sZmlsZQ%3D%3D?line=5'>6</a>\u001b[0m     \u001b[39mprint\u001b[39m (\u001b[39mf\u001b[39m\u001b[39m\"\u001b[39m\u001b[39m\\n\u001b[39;00m\u001b[39m \u001b[39m\u001b[39m{\u001b[39;00melem\u001b[39m \u001b[39m\u001b[39m+\u001b[39m\u001b[39m \u001b[39m\u001b[39m1\u001b[39m\u001b[39m}\u001b[39;00m\u001b[39m | \u001b[39m\u001b[39m{\u001b[39;00mmemoria[elem]\u001b[39m}\u001b[39;00m\u001b[39m | \u001b[39m\u001b[39m{\u001b[39;00mcalcGrau\u001b[39m \u001b[39;49m(memoria[elem])\u001b[39m}\u001b[39;00m\u001b[39m\"\u001b[39m) \n\u001b[0;32m      <a href='vscode-notebook-cell:/c%3A/Users/inesc/OneDrive/Ambiente%20de%20Trabalho/Escola/Uni/2%C2%BAano/1%C2%BAsemestre/Algoritmos/TPCS/TPC7/TPC7.ipynb#X15sZmlsZQ%3D%3D?line=6'>7</a>\u001b[0m     elem \u001b[39m=\u001b[39m elem \u001b[39m+\u001b[39m \u001b[39m1\u001b[39m\n",
      "\u001b[1;32mc:\\Users\\inesc\\OneDrive\\Ambiente de Trabalho\\Escola\\Uni\\2ºano\\1ºsemestre\\Algoritmos\\TPCS\\TPC7\\TPC7.ipynb Cell 12\u001b[0m line \u001b[0;36m3\n\u001b[0;32m      <a href='vscode-notebook-cell:/c%3A/Users/inesc/OneDrive/Ambiente%20de%20Trabalho/Escola/Uni/2%C2%BAano/1%C2%BAsemestre/Algoritmos/TPCS/TPC7/TPC7.ipynb#X15sZmlsZQ%3D%3D?line=0'>1</a>\u001b[0m \u001b[39mdef\u001b[39;00m \u001b[39mcalcGrau\u001b[39m(polinomio):\n\u001b[0;32m      <a href='vscode-notebook-cell:/c%3A/Users/inesc/OneDrive/Ambiente%20de%20Trabalho/Escola/Uni/2%C2%BAano/1%C2%BAsemestre/Algoritmos/TPCS/TPC7/TPC7.ipynb#X15sZmlsZQ%3D%3D?line=1'>2</a>\u001b[0m     maxGrau \u001b[39m=\u001b[39m \u001b[39m0\u001b[39m\n\u001b[1;32m----> <a href='vscode-notebook-cell:/c%3A/Users/inesc/OneDrive/Ambiente%20de%20Trabalho/Escola/Uni/2%C2%BAano/1%C2%BAsemestre/Algoritmos/TPCS/TPC7/TPC7.ipynb#X15sZmlsZQ%3D%3D?line=2'>3</a>\u001b[0m     \u001b[39mfor\u001b[39;00m coef, grau \u001b[39min\u001b[39;00m polinomio:\n\u001b[0;32m      <a href='vscode-notebook-cell:/c%3A/Users/inesc/OneDrive/Ambiente%20de%20Trabalho/Escola/Uni/2%C2%BAano/1%C2%BAsemestre/Algoritmos/TPCS/TPC7/TPC7.ipynb#X15sZmlsZQ%3D%3D?line=3'>4</a>\u001b[0m         \u001b[39mif\u001b[39;00m maxGrau \u001b[39m==\u001b[39m \u001b[39m0\u001b[39m \u001b[39mor\u001b[39;00m grau \u001b[39m>\u001b[39m maxGrau \u001b[39mor\u001b[39;00m (grau \u001b[39m==\u001b[39m maxGrau) : \n\u001b[0;32m      <a href='vscode-notebook-cell:/c%3A/Users/inesc/OneDrive/Ambiente%20de%20Trabalho/Escola/Uni/2%C2%BAano/1%C2%BAsemestre/Algoritmos/TPCS/TPC7/TPC7.ipynb#X15sZmlsZQ%3D%3D?line=4'>5</a>\u001b[0m             maxGrau \u001b[39m=\u001b[39m grau\n",
      "\u001b[1;31mValueError\u001b[0m: not enough values to unpack (expected 2, got 1)"
     ]
    }
   ],
   "source": [
    "\n",
    "def listarPolEGrau (memoria) :\n",
    "    elem = 0\n",
    "    print (\"Ordem |   Termos                    | Grau   \")\n",
    "    print (\"---------------------------------------------\")\n",
    "    while elem < len (memoria) :\n",
    "        print (f\"\\n {elem + 1} | {memoria[elem]} | {calcGrau (memoria[elem])}\") \n",
    "        elem = elem + 1\n",
    "\n",
    "listarPolEGrau (\"polinomiosT.txt\")\n",
    "\n"
   ]
  },
  {
   "cell_type": "code",
   "execution_count": 151,
   "metadata": {},
   "outputs": [
    {
     "ename": "TypeError",
     "evalue": "'NoneType' object is not iterable",
     "output_type": "error",
     "traceback": [
      "\u001b[1;31m---------------------------------------------------------------------------\u001b[0m",
      "\u001b[1;31mTypeError\u001b[0m                                 Traceback (most recent call last)",
      "\u001b[1;32mc:\\Users\\inesc\\OneDrive\\Ambiente de Trabalho\\Escola\\Uni\\2ºano\\1ºsemestre\\Algoritmos\\TPCS\\TPC7\\TPC7.ipynb Cell 13\u001b[0m line \u001b[0;36m1\n\u001b[0;32m     <a href='vscode-notebook-cell:/c%3A/Users/inesc/OneDrive/Ambiente%20de%20Trabalho/Escola/Uni/2%C2%BAano/1%C2%BAsemestre/Algoritmos/TPCS/TPC7/TPC7.ipynb#X20sZmlsZQ%3D%3D?line=15'>16</a>\u001b[0m                 ordem \u001b[39m=\u001b[39m j \u001b[39m+\u001b[39m \u001b[39m1\u001b[39m\n\u001b[0;32m     <a href='vscode-notebook-cell:/c%3A/Users/inesc/OneDrive/Ambiente%20de%20Trabalho/Escola/Uni/2%C2%BAano/1%C2%BAsemestre/Algoritmos/TPCS/TPC7/TPC7.ipynb#X20sZmlsZQ%3D%3D?line=16'>17</a>\u001b[0m     \u001b[39mprint\u001b[39m (\u001b[39mf\u001b[39m\u001b[39m\"\u001b[39m\u001b[39m\\n\u001b[39;00m\u001b[39m Polinómio de maior grau :: \u001b[39m\u001b[39m{\u001b[39;00mordem\u001b[39m}\u001b[39;00m\u001b[39m | \u001b[39m\u001b[39m{\u001b[39;00mpolMaior\u001b[39m}\u001b[39;00m\u001b[39m | Grau :: \u001b[39m\u001b[39m{\u001b[39;00mi\u001b[39m}\u001b[39;00m\u001b[39m\"\u001b[39m )\n\u001b[1;32m---> <a href='vscode-notebook-cell:/c%3A/Users/inesc/OneDrive/Ambiente%20de%20Trabalho/Escola/Uni/2%C2%BAano/1%C2%BAsemestre/Algoritmos/TPCS/TPC7/TPC7.ipynb#X20sZmlsZQ%3D%3D?line=18'>19</a>\u001b[0m maxGrauPol (memoria)\n",
      "\u001b[1;32mc:\\Users\\inesc\\OneDrive\\Ambiente de Trabalho\\Escola\\Uni\\2ºano\\1ºsemestre\\Algoritmos\\TPCS\\TPC7\\TPC7.ipynb Cell 13\u001b[0m line \u001b[0;36m9\n\u001b[0;32m      <a href='vscode-notebook-cell:/c%3A/Users/inesc/OneDrive/Ambiente%20de%20Trabalho/Escola/Uni/2%C2%BAano/1%C2%BAsemestre/Algoritmos/TPCS/TPC7/TPC7.ipynb#X20sZmlsZQ%3D%3D?line=6'>7</a>\u001b[0m \u001b[39mdef\u001b[39;00m \u001b[39mmaxGrauPol\u001b[39m (memoria):\n\u001b[0;32m      <a href='vscode-notebook-cell:/c%3A/Users/inesc/OneDrive/Ambiente%20de%20Trabalho/Escola/Uni/2%C2%BAano/1%C2%BAsemestre/Algoritmos/TPCS/TPC7/TPC7.ipynb#X20sZmlsZQ%3D%3D?line=7'>8</a>\u001b[0m     listaGraus \u001b[39m=\u001b[39m []\n\u001b[1;32m----> <a href='vscode-notebook-cell:/c%3A/Users/inesc/OneDrive/Ambiente%20de%20Trabalho/Escola/Uni/2%C2%BAano/1%C2%BAsemestre/Algoritmos/TPCS/TPC7/TPC7.ipynb#X20sZmlsZQ%3D%3D?line=8'>9</a>\u001b[0m     \u001b[39mfor\u001b[39;00m polinomios \u001b[39min\u001b[39;00m memoria :\n\u001b[0;32m     <a href='vscode-notebook-cell:/c%3A/Users/inesc/OneDrive/Ambiente%20de%20Trabalho/Escola/Uni/2%C2%BAano/1%C2%BAsemestre/Algoritmos/TPCS/TPC7/TPC7.ipynb#X20sZmlsZQ%3D%3D?line=9'>10</a>\u001b[0m         listaGraus\u001b[39m.\u001b[39mappend (calcGrau(polinomios))\n\u001b[0;32m     <a href='vscode-notebook-cell:/c%3A/Users/inesc/OneDrive/Ambiente%20de%20Trabalho/Escola/Uni/2%C2%BAano/1%C2%BAsemestre/Algoritmos/TPCS/TPC7/TPC7.ipynb#X20sZmlsZQ%3D%3D?line=10'>11</a>\u001b[0m     i \u001b[39m=\u001b[39m maior(listaGraus)\n",
      "\u001b[1;31mTypeError\u001b[0m: 'NoneType' object is not iterable"
     ]
    }
   ],
   "source": [
    "def maior(lista):\n",
    "    maior = 0\n",
    "    for n in lista :\n",
    "        if n > maior :\n",
    "            maior = n\n",
    "    return maior\n",
    "def maxGrauPol (memoria):\n",
    "    listaGraus = []\n",
    "    for polinomios in memoria :\n",
    "        listaGraus.append (calcGrau(polinomios))\n",
    "    i = maior(listaGraus)\n",
    "    for j in range (len(memoria)) :\n",
    "        for k in range (memoria[j]):\n",
    "            if memoria[j][k][1] == i :\n",
    "                polMaior = memoria[j]\n",
    "                ordem = j + 1\n",
    "    print (f\"\\n Polinómio de maior grau :: {ordem} | {polMaior} | Grau :: {i}\" )\n",
    "    \n",
    "maxGrauPol (memoria)\n",
    "    "
   ]
  },
  {
   "cell_type": "code",
   "execution_count": 159,
   "metadata": {},
   "outputs": [
    {
     "ename": "TypeError",
     "evalue": "'NoneType' object is not iterable",
     "output_type": "error",
     "traceback": [
      "\u001b[1;31m---------------------------------------------------------------------------\u001b[0m",
      "\u001b[1;31mTypeError\u001b[0m                                 Traceback (most recent call last)",
      "\u001b[1;32mc:\\Users\\inesc\\OneDrive\\Ambiente de Trabalho\\Escola\\Uni\\2ºano\\1ºsemestre\\Algoritmos\\TPCS\\TPC7\\TPC7.ipynb Cell 14\u001b[0m line \u001b[0;36m1\n\u001b[0;32m      <a href='vscode-notebook-cell:/c%3A/Users/inesc/OneDrive/Ambiente%20de%20Trabalho/Escola/Uni/2%C2%BAano/1%C2%BAsemestre/Algoritmos/TPCS/TPC7/TPC7.ipynb#X24sZmlsZQ%3D%3D?line=6'>7</a>\u001b[0m         ordem \u001b[39m=\u001b[39m j \u001b[39m+\u001b[39m \u001b[39m1\u001b[39m\n\u001b[0;32m      <a href='vscode-notebook-cell:/c%3A/Users/inesc/OneDrive/Ambiente%20de%20Trabalho/Escola/Uni/2%C2%BAano/1%C2%BAsemestre/Algoritmos/TPCS/TPC7/TPC7.ipynb#X24sZmlsZQ%3D%3D?line=8'>9</a>\u001b[0m     \u001b[39mprint\u001b[39m (\u001b[39mf\u001b[39m\u001b[39m\"\u001b[39m\u001b[39m\\n\u001b[39;00m\u001b[39m Polinómio :: \u001b[39m\u001b[39m{\u001b[39;00mordem\u001b[39m}\u001b[39;00m\u001b[39m |  Derivada :: \u001b[39m\u001b[39m{\u001b[39;00mlistaDerivadas\u001b[39m}\u001b[39;00m\u001b[39m\"\u001b[39m )\n\u001b[1;32m---> <a href='vscode-notebook-cell:/c%3A/Users/inesc/OneDrive/Ambiente%20de%20Trabalho/Escola/Uni/2%C2%BAano/1%C2%BAsemestre/Algoritmos/TPCS/TPC7/TPC7.ipynb#X24sZmlsZQ%3D%3D?line=9'>10</a>\u001b[0m derivada2 (memoria)\n",
      "\u001b[1;32mc:\\Users\\inesc\\OneDrive\\Ambiente de Trabalho\\Escola\\Uni\\2ºano\\1ºsemestre\\Algoritmos\\TPCS\\TPC7\\TPC7.ipynb Cell 14\u001b[0m line \u001b[0;36m3\n\u001b[0;32m      <a href='vscode-notebook-cell:/c%3A/Users/inesc/OneDrive/Ambiente%20de%20Trabalho/Escola/Uni/2%C2%BAano/1%C2%BAsemestre/Algoritmos/TPCS/TPC7/TPC7.ipynb#X24sZmlsZQ%3D%3D?line=0'>1</a>\u001b[0m \u001b[39mdef\u001b[39;00m \u001b[39mderivada2\u001b[39m (memoria) :\n\u001b[0;32m      <a href='vscode-notebook-cell:/c%3A/Users/inesc/OneDrive/Ambiente%20de%20Trabalho/Escola/Uni/2%C2%BAano/1%C2%BAsemestre/Algoritmos/TPCS/TPC7/TPC7.ipynb#X24sZmlsZQ%3D%3D?line=1'>2</a>\u001b[0m     listaDerivadas \u001b[39m=\u001b[39m []\n\u001b[1;32m----> <a href='vscode-notebook-cell:/c%3A/Users/inesc/OneDrive/Ambiente%20de%20Trabalho/Escola/Uni/2%C2%BAano/1%C2%BAsemestre/Algoritmos/TPCS/TPC7/TPC7.ipynb#X24sZmlsZQ%3D%3D?line=2'>3</a>\u001b[0m     \u001b[39mfor\u001b[39;00m polinomios \u001b[39min\u001b[39;00m memoria :\n\u001b[0;32m      <a href='vscode-notebook-cell:/c%3A/Users/inesc/OneDrive/Ambiente%20de%20Trabalho/Escola/Uni/2%C2%BAano/1%C2%BAsemestre/Algoritmos/TPCS/TPC7/TPC7.ipynb#X24sZmlsZQ%3D%3D?line=3'>4</a>\u001b[0m         listaDerivadas\u001b[39m.\u001b[39mappend (derivadaPol(polinomios))\n\u001b[0;32m      <a href='vscode-notebook-cell:/c%3A/Users/inesc/OneDrive/Ambiente%20de%20Trabalho/Escola/Uni/2%C2%BAano/1%C2%BAsemestre/Algoritmos/TPCS/TPC7/TPC7.ipynb#X24sZmlsZQ%3D%3D?line=5'>6</a>\u001b[0m     \u001b[39mfor\u001b[39;00m j \u001b[39min\u001b[39;00m \u001b[39mrange\u001b[39m (\u001b[39mlen\u001b[39m(memoria)) :\n",
      "\u001b[1;31mTypeError\u001b[0m: 'NoneType' object is not iterable"
     ]
    }
   ],
   "source": [
    "def derivada2 (memoria) :\n",
    "    listaDerivadas = []\n",
    "    for polinomios in memoria :\n",
    "        listaDerivadas.append (derivadaPol(polinomios))\n",
    "    for j in range (len(memoria)) :\n",
    "        ordem = j + 1\n",
    "    \n",
    "    print (f\"\\n Polinómio :: {ordem} |  Derivada :: {listaDerivadas}\" )\n",
    "derivada2 (memoria)"
   ]
  },
  {
   "cell_type": "code",
   "execution_count": null,
   "metadata": {},
   "outputs": [],
   "source": [
    "def soma (memoria) :\n",
    "    listaSoma = []\n",
    "    a = int (input (\"Introduza o número de ordem do 1º polinómio: \"))\n",
    "    b = int (input (\"Introduza o número de ordem do 2º polinómio: \"))\n",
    "    for polinomios in memoria :\n",
    "        listaSoma.append ((somaPol (a,b)))\n",
    "    for i in range (len(memoria)) :\n",
    "        ordem = i + 1\n",
    "    print (f\"\\n Polinómio :: {ordem} |  Soma :: {listaSoma}\" )"
   ]
  },
  {
   "cell_type": "code",
   "execution_count": 142,
   "metadata": {},
   "outputs": [
    {
     "ename": "ValueError",
     "evalue": "too many values to unpack (expected 2)",
     "output_type": "error",
     "traceback": [
      "\u001b[1;31m---------------------------------------------------------------------------\u001b[0m",
      "\u001b[1;31mValueError\u001b[0m                                Traceback (most recent call last)",
      "\u001b[1;32mc:\\Users\\inesc\\OneDrive\\Ambiente de Trabalho\\Escola\\Uni\\2ºano\\1ºsemestre\\Algoritmos\\TPCS\\TPC7\\TPC7.ipynb Cell 13\u001b[0m line \u001b[0;36m8\n\u001b[0;32m      <a href='vscode-notebook-cell:/c%3A/Users/inesc/OneDrive/Ambiente%20de%20Trabalho/Escola/Uni/2%C2%BAano/1%C2%BAsemestre/Algoritmos/TPCS/TPC7/TPC7.ipynb#X21sZmlsZQ%3D%3D?line=4'>5</a>\u001b[0m             coe , grau \u001b[39m=\u001b[39m termo\n\u001b[0;32m      <a href='vscode-notebook-cell:/c%3A/Users/inesc/OneDrive/Ambiente%20de%20Trabalho/Escola/Uni/2%C2%BAano/1%C2%BAsemestre/Algoritmos/TPCS/TPC7/TPC7.ipynb#X21sZmlsZQ%3D%3D?line=5'>6</a>\u001b[0m             file\u001b[39m.\u001b[39mwrite (\u001b[39mstr\u001b[39m (coe) \u001b[39m+\u001b[39m\u001b[39m\"\u001b[39m\u001b[39m;\u001b[39m\u001b[39m\"\u001b[39m \u001b[39m+\u001b[39m \u001b[39mstr\u001b[39m (grau))\n\u001b[1;32m----> <a href='vscode-notebook-cell:/c%3A/Users/inesc/OneDrive/Ambiente%20de%20Trabalho/Escola/Uni/2%C2%BAano/1%C2%BAsemestre/Algoritmos/TPCS/TPC7/TPC7.ipynb#X21sZmlsZQ%3D%3D?line=7'>8</a>\u001b[0m guardarPolinomios (memoria, \u001b[39m\"\u001b[39;49m\u001b[39mpolinomiosT2.txt\u001b[39;49m\u001b[39m\"\u001b[39;49m)\n",
      "\u001b[1;32mc:\\Users\\inesc\\OneDrive\\Ambiente de Trabalho\\Escola\\Uni\\2ºano\\1ºsemestre\\Algoritmos\\TPCS\\TPC7\\TPC7.ipynb Cell 13\u001b[0m line \u001b[0;36m5\n\u001b[0;32m      <a href='vscode-notebook-cell:/c%3A/Users/inesc/OneDrive/Ambiente%20de%20Trabalho/Escola/Uni/2%C2%BAano/1%C2%BAsemestre/Algoritmos/TPCS/TPC7/TPC7.ipynb#X21sZmlsZQ%3D%3D?line=2'>3</a>\u001b[0m \u001b[39mfor\u001b[39;00m p \u001b[39min\u001b[39;00m memoria :\n\u001b[0;32m      <a href='vscode-notebook-cell:/c%3A/Users/inesc/OneDrive/Ambiente%20de%20Trabalho/Escola/Uni/2%C2%BAano/1%C2%BAsemestre/Algoritmos/TPCS/TPC7/TPC7.ipynb#X21sZmlsZQ%3D%3D?line=3'>4</a>\u001b[0m     \u001b[39mfor\u001b[39;00m termo \u001b[39min\u001b[39;00m p :\n\u001b[1;32m----> <a href='vscode-notebook-cell:/c%3A/Users/inesc/OneDrive/Ambiente%20de%20Trabalho/Escola/Uni/2%C2%BAano/1%C2%BAsemestre/Algoritmos/TPCS/TPC7/TPC7.ipynb#X21sZmlsZQ%3D%3D?line=4'>5</a>\u001b[0m         coe , grau \u001b[39m=\u001b[39m termo\n\u001b[0;32m      <a href='vscode-notebook-cell:/c%3A/Users/inesc/OneDrive/Ambiente%20de%20Trabalho/Escola/Uni/2%C2%BAano/1%C2%BAsemestre/Algoritmos/TPCS/TPC7/TPC7.ipynb#X21sZmlsZQ%3D%3D?line=5'>6</a>\u001b[0m         file\u001b[39m.\u001b[39mwrite (\u001b[39mstr\u001b[39m (coe) \u001b[39m+\u001b[39m\u001b[39m\"\u001b[39m\u001b[39m;\u001b[39m\u001b[39m\"\u001b[39m \u001b[39m+\u001b[39m \u001b[39mstr\u001b[39m (grau))\n",
      "\u001b[1;31mValueError\u001b[0m: too many values to unpack (expected 2)"
     ]
    }
   ],
   "source": [
    "def guardarPolinomios(memoria, fnome):\n",
    "    file = open (fnome, \"w\")\n",
    "    for p in memoria :\n",
    "        for termo in p :\n",
    "            coe , grau = termo\n",
    "            file.write (str (coe) +\";\" + str (grau))\n",
    "\n",
    "guardarPolinomios (memoria, \"polinomiosT2.txt\")"
   ]
  },
  {
   "cell_type": "code",
   "execution_count": 157,
   "metadata": {},
   "outputs": [
    {
     "name": "stdout",
     "output_type": "stream",
     "text": [
      "1. Criar um polinómio interativamente\n",
      "2. Ler uma lista de polinómios de um ficheiro\n",
      "3. Listar polinómios: mostra numa tabela os polinómios carregados em memória, adicionando um número de ordem a cada um\n",
      "4. Calcular o valor de um polinómio num ponto (usa o número de ordem para referenciar o polinómio)\n",
      "5. Listar polinómios com grau: à listagem anterior, acrescenta mais uma coluna com o grau\n",
      "6. Maior grau: mostra o polinómio de maior grau e indica o seu número de ordem\n",
      "7. Derivada: mostra uma tabela com os polinómios e as respetivas derivadas\n",
      "8. Somar dois polinómios: indicando os seus números de ordem;\n",
      "9. Gerar um gráfico para o polinómio\n",
      "10. Gravar num ficheiro os polinómios em memória\n",
      "0. Sair da aplicação\n",
      "Ordem |   Termos                    \n",
      "------------------------------------\n",
      "\n",
      " 1 | ['1;7-3.7;45;3-88;0']\n",
      "\n",
      " 2 | ['2;217;0']\n",
      "\n",
      " 3 | ['7;46;3-1;243;0']\n",
      "\n",
      " 4 | ['1;4']\n",
      "\n",
      " 5 | ['1;3']\n",
      "\n",
      " 6 | ['1;2']\n",
      "Ordem |   Termos                    \n",
      "------------------------------------\n",
      "\n",
      " 1 | ['1;7-3.7;45;3-88;0']\n",
      "\n",
      " 2 | ['2;217;0']\n",
      "\n",
      " 3 | ['7;46;3-1;243;0']\n",
      "\n",
      " 4 | ['1;4']\n",
      "\n",
      " 5 | ['1;3']\n",
      "\n",
      " 6 | ['1;2']\n"
     ]
    },
    {
     "ename": "ValueError",
     "evalue": "invalid literal for int() with base 10: ''",
     "output_type": "error",
     "traceback": [
      "\u001b[1;31m---------------------------------------------------------------------------\u001b[0m",
      "\u001b[1;31mValueError\u001b[0m                                Traceback (most recent call last)",
      "\u001b[1;32mc:\\Users\\inesc\\OneDrive\\Ambiente de Trabalho\\Escola\\Uni\\2ºano\\1ºsemestre\\Algoritmos\\TPCS\\TPC7\\TPC7.ipynb Cell 15\u001b[0m line \u001b[0;36m3\n\u001b[0;32m     <a href='vscode-notebook-cell:/c%3A/Users/inesc/OneDrive/Ambiente%20de%20Trabalho/Escola/Uni/2%C2%BAano/1%C2%BAsemestre/Algoritmos/TPCS/TPC7/TPC7.ipynb#X11sZmlsZQ%3D%3D?line=36'>37</a>\u001b[0m     \u001b[39mif\u001b[39;00m d \u001b[39m==\u001b[39m x :\n\u001b[0;32m     <a href='vscode-notebook-cell:/c%3A/Users/inesc/OneDrive/Ambiente%20de%20Trabalho/Escola/Uni/2%C2%BAano/1%C2%BAsemestre/Algoritmos/TPCS/TPC7/TPC7.ipynb#X11sZmlsZQ%3D%3D?line=37'>38</a>\u001b[0m         calcPolinomio (d , e)\n\u001b[1;32m---> <a href='vscode-notebook-cell:/c%3A/Users/inesc/OneDrive/Ambiente%20de%20Trabalho/Escola/Uni/2%C2%BAano/1%C2%BAsemestre/Algoritmos/TPCS/TPC7/TPC7.ipynb#X11sZmlsZQ%3D%3D?line=38'>39</a>\u001b[0m escolha \u001b[39m=\u001b[39m \u001b[39mint\u001b[39;49m (\u001b[39minput\u001b[39;49m (\u001b[39m\"\u001b[39;49m\u001b[39mEscolha o menu que pretende aplicar sobre o(s) polinómio(s) : \u001b[39;49m\u001b[39m\"\u001b[39;49m))\n",
      "\u001b[1;31mValueError\u001b[0m: invalid literal for int() with base 10: ''"
     ]
    }
   ],
   "source": [
    "\n",
    "print (\"1. Criar um polinómio interativamente\")\n",
    "print (\"2. Ler uma lista de polinómios de um ficheiro\")\n",
    "print (\"3. Listar polinómios: mostra numa tabela os polinómios carregados em memória, adicionando um número de ordem a cada um\")\n",
    "print (\"4. Calcular o valor de um polinómio num ponto (usa o número de ordem para referenciar o polinómio)\")\n",
    "print (\"5. Listar polinómios com grau: à listagem anterior, acrescenta mais uma coluna com o grau\")\n",
    "print (\"6. Maior grau: mostra o polinómio de maior grau e indica o seu número de ordem\")\n",
    "print (\"7. Derivada: mostra uma tabela com os polinómios e as respetivas derivadas\")\n",
    "print (\"8. Somar dois polinómios: indicando os seus números de ordem;\")\n",
    "print (\"9. Gerar um gráfico para o polinómio\")\n",
    "print (\"10. Gravar num ficheiro os polinómios em memória\")\n",
    "print (\"0. Sair da aplicação\")\n",
    "escolha = int (input (\"Escolha o menu que pretende aplicar sobre o(s) polinómio(s) : \"))\n",
    "\n",
    "while escolha != 0 :\n",
    "    if escolha == 1 :\n",
    "       criaPol () \n",
    "        \n",
    "    if escolha == 2 :\n",
    "        b = input (\"Insira o nome do seu ficheiro: \")\n",
    "        print (lerFicheiro (b))\n",
    "        memoria = lerFicheiro (b)\n",
    "        \n",
    "    if escolha == 3 :\n",
    "        listarPol (memoria)\n",
    "        memoria = listarPol (memoria)\n",
    "\n",
    "    if escolha == 4 :\n",
    "        x = int (input (\"Introduza o valor que quer que x tome: \"))\n",
    "        calcPolinomio (memoria, x)\n",
    "        memoria = calcPolinomio (memoria, x)\n",
    "\n",
    "    if escolha == 5 :\n",
    "        listarPolEGrau (memoria)\n",
    "        memoria = listarPolEGrau (memoria)\n",
    "\n",
    "    if escolha == 6 :\n",
    "        maxGrauPol (memoria)\n",
    "        memoria = maxGrauPol (memoria)\n",
    "    \n",
    "    if escolha == 7 :\n",
    "        derivada2 (memoria)\n",
    "        memoria = derivada2 (memoria)\n",
    "\n",
    "    if escolha == 8 :\n",
    "        soma (memoria)\n",
    "        memoria = soma (memoria)\n",
    "    \n",
    "    if escolha == 9 :\n",
    "        \n",
    "                \n",
    "    escolha = int (input (\"Escolha o menu que pretende aplicar sobre o(s) polinómio(s) : \"))\n",
    "\n",
    "    "
   ]
  }
 ],
 "metadata": {
  "kernelspec": {
   "display_name": "Python 3",
   "language": "python",
   "name": "python3"
  },
  "language_info": {
   "codemirror_mode": {
    "name": "ipython",
    "version": 3
   },
   "file_extension": ".py",
   "mimetype": "text/x-python",
   "name": "python",
   "nbconvert_exporter": "python",
   "pygments_lexer": "ipython3",
   "version": "3.11.5"
  }
 },
 "nbformat": 4,
 "nbformat_minor": 2
}
