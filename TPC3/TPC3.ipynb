{
 "cells": [
  {
   "cell_type": "markdown",
   "metadata": {},
   "source": [
    "TP3"
   ]
  },
  {
   "cell_type": "code",
   "execution_count": 1,
   "metadata": {},
   "outputs": [
    {
     "name": "stdout",
     "output_type": "stream",
     "text": [
      "Maior!\n",
      "Maior!\n",
      "Menor!\n",
      "Adivinhaste o número 45 com 4 tentativas!\n"
     ]
    }
   ],
   "source": [
    "#O jogadro tenta acertar no número que o computador pensou\n",
    "import random\n",
    "n = random.randrange (0, 101)\n",
    "x = int (input (\"Introduza um número!\"))\n",
    "Tentativa = 1\n",
    "while x!= n :\n",
    "    if x < n :\n",
    "        Tentativa = Tentativa + 1\n",
    "        print (\"Maior!\")\n",
    "        x = int (input (\"Introduza um número\"))\n",
    "    elif x > n :\n",
    "        Tentativa = Tentativa + 1\n",
    "        print (\"Menor!\")\n",
    "        x = int (input (\"Introduza um número\"))\n",
    "if x == n :\n",
    "    print (\"Adivinhaste o número\", n, \"com\", Tentativa, \"tentativas!\")"
   ]
  },
  {
   "cell_type": "code",
   "execution_count": 20,
   "metadata": {},
   "outputs": [
    {
     "name": "stdout",
     "output_type": "stream",
     "text": [
      "21\n",
      "É um número menor que 21 !\n",
      "1\n",
      "É um número maior que 1 !\n",
      "17\n",
      "É um número maior que 17 !\n",
      "19\n",
      "É um número maior que 19 !\n",
      "20\n"
     ]
    },
    {
     "ename": "KeyboardInterrupt",
     "evalue": "",
     "output_type": "error",
     "traceback": [
      "\u001b[1;31m---------------------------------------------------------------------------\u001b[0m",
      "\u001b[1;31mKeyboardInterrupt\u001b[0m                         Traceback (most recent call last)",
      "\u001b[1;32mc:\\Users\\inesc\\OneDrive\\Ambiente de Trabalho\\Escola\\Uni\\2ºano\\1ºsemestre\\Algoritmos\\TPCS\\TPC3\\TPC3.ipynb Cell 4\u001b[0m line \u001b[0;36m1\n\u001b[0;32m     <a href='vscode-notebook-cell:/c%3A/Users/inesc/OneDrive/Ambiente%20de%20Trabalho/Escola/Uni/2%C2%BAano/1%C2%BAsemestre/Algoritmos/TPCS/TPC3/TPC3.ipynb#W3sZmlsZQ%3D%3D?line=10'>11</a>\u001b[0m maior \u001b[39m=\u001b[39m \u001b[39m\"\u001b[39m\u001b[39mb\u001b[39m\u001b[39m\"\u001b[39m\n\u001b[0;32m     <a href='vscode-notebook-cell:/c%3A/Users/inesc/OneDrive/Ambiente%20de%20Trabalho/Escola/Uni/2%C2%BAano/1%C2%BAsemestre/Algoritmos/TPCS/TPC3/TPC3.ipynb#W3sZmlsZQ%3D%3D?line=11'>12</a>\u001b[0m igual \u001b[39m=\u001b[39m \u001b[39m\"\u001b[39m\u001b[39mc\u001b[39m\u001b[39m\"\u001b[39m\n\u001b[1;32m---> <a href='vscode-notebook-cell:/c%3A/Users/inesc/OneDrive/Ambiente%20de%20Trabalho/Escola/Uni/2%C2%BAano/1%C2%BAsemestre/Algoritmos/TPCS/TPC3/TPC3.ipynb#W3sZmlsZQ%3D%3D?line=13'>14</a>\u001b[0m \u001b[39mwhile\u001b[39;00m n \u001b[39m!=\u001b[39m \u001b[39m\"\u001b[39m\u001b[39mc\u001b[39m\u001b[39m\"\u001b[39m :\n\u001b[0;32m     <a href='vscode-notebook-cell:/c%3A/Users/inesc/OneDrive/Ambiente%20de%20Trabalho/Escola/Uni/2%C2%BAano/1%C2%BAsemestre/Algoritmos/TPCS/TPC3/TPC3.ipynb#W3sZmlsZQ%3D%3D?line=14'>15</a>\u001b[0m     Tentativa \u001b[39m=\u001b[39m Tentativa \u001b[39m+\u001b[39m \u001b[39m1\u001b[39m\n\u001b[0;32m     <a href='vscode-notebook-cell:/c%3A/Users/inesc/OneDrive/Ambiente%20de%20Trabalho/Escola/Uni/2%C2%BAano/1%C2%BAsemestre/Algoritmos/TPCS/TPC3/TPC3.ipynb#W3sZmlsZQ%3D%3D?line=15'>16</a>\u001b[0m     \u001b[39mif\u001b[39;00m x \u001b[39m==\u001b[39m \u001b[39m\"\u001b[39m\u001b[39ma\u001b[39m\u001b[39m\"\u001b[39m :\n",
      "\u001b[1;31mKeyboardInterrupt\u001b[0m: "
     ]
    }
   ],
   "source": [
    "#O computador tenta acertar o número que o jogador pensou\n",
    "import random\n",
    "d = int (0)\n",
    "e = int (101)\n",
    "n = random.randrange (d, e)\n",
    "print (n)\n",
    "x = input (\"Introduza a letra a, b ou c se o número for menor, maior ou igual, respetivamente!\")\n",
    "\n",
    "Tentativa = 1\n",
    "menor = \"a\"\n",
    "maior = \"b\"\n",
    "igual = \"c\"\n",
    "\n",
    "while n != \"c\" :\n",
    "    Tentativa = Tentativa + 1\n",
    "    if x == \"a\" :\n",
    "        print (\"É um número menor que\", n, \"!\")\n",
    "        e = n\n",
    "        n = random.randrange (d, e)\n",
    "        print (n)\n",
    "        x = input (\"Introduza a letra a, b ou c se o número for menor, maior ou igual, respetivamente!\")\n",
    "    elif x == \"b\" :\n",
    "        print (\"É um número maior que\", n, \"!\")\n",
    "        #d = d + 1\n",
    "        d = n\n",
    "        n = random.randrange (d, e)\n",
    "        print (n)\n",
    "        x = input (\"Introduza a letra a, b ou c se o número for menor, maior ou igual, respetivamente!\")\n",
    "if x == \"c\" :\n",
    "    print (\"Acertei em\", Tentativa, \"tentativas! O número era\", n, \"!\")\n"
   ]
  }
 ],
 "metadata": {
  "kernelspec": {
   "display_name": "Python 3",
   "language": "python",
   "name": "python3"
  },
  "language_info": {
   "codemirror_mode": {
    "name": "ipython",
    "version": 3
   },
   "file_extension": ".py",
   "mimetype": "text/x-python",
   "name": "python",
   "nbconvert_exporter": "python",
   "pygments_lexer": "ipython3",
   "version": "3.11.5"
  },
  "orig_nbformat": 4
 },
 "nbformat": 4,
 "nbformat_minor": 2
}
